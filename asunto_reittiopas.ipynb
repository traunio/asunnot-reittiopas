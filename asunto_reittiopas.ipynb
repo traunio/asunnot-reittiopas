{
 "metadata": {
  "name": "",
  "signature": "sha256:7f679e5319135a82d98af02d9f37925247a0c0b96165cf51fac1e0f3e72a271a"
 },
 "nbformat": 3,
 "nbformat_minor": 0,
 "worksheets": [
  {
   "cells": [
    {
     "cell_type": "code",
     "collapsed": false,
     "input": [
      "import requests\n",
      "import json\n",
      "import urllib"
     ],
     "language": "python",
     "metadata": {},
     "outputs": [],
     "prompt_number": 82
    },
    {
     "cell_type": "code",
     "collapsed": false,
     "input": [
      "# Input: address as string\n",
      "# Output: (latitude, longitude) or None\n",
      "# Gives a latitude longitude pair for a given text address\n",
      "def getLocation(address):\n",
      "    payload = \"http://api.digitransit.fi/geocoding/v1/search?text=\" + urllib.parse.quote(address) + \"&size=1\"\n",
      "    data = requests.get(payload)\n",
      "    json_reply = data.json()\n",
      "    if \"bbox\" in json_reply:\n",
      "        bbox = json_reply['bbox']               \n",
      "        return (bbox[1],bbox[0]) # (lat,long)\n",
      "    return None"
     ],
     "language": "python",
     "metadata": {},
     "outputs": [],
     "prompt_number": 111
    },
    {
     "cell_type": "code",
     "collapsed": false,
     "input": [
      "# Test case\n",
      "locs = ['Kamppi','Keilaniementie 1, Espoo', 'Hakaniemi']\n",
      "for i in locs:\n",
      "    print (\"%s location %s\" % (i, getLocation(i)) )"
     ],
     "language": "python",
     "metadata": {},
     "outputs": [
      {
       "output_type": "stream",
       "stream": "stdout",
       "text": [
        "Kamppi location (60.169586, 24.933375)\n",
        "Keilaniementie 1, Espoo location (60.17508, 24.831008)"
       ]
      },
      {
       "output_type": "stream",
       "stream": "stdout",
       "text": [
        "\n",
        "Hakaniemi location (60.891535, 24.818197)"
       ]
      },
      {
       "output_type": "stream",
       "stream": "stdout",
       "text": [
        "\n"
       ]
      }
     ],
     "prompt_number": 113
    },
    {
     "cell_type": "code",
     "collapsed": false,
     "input": [
      "place=requests.get(\"http://api.digitransit.fi/geocoding/v1/search?text=hakkukuja%201,espoo&size=1\")\n",
      "print(place.text)\n",
      "place2 = requests.get(\"http://api.digitransit.fi/geocoding/v1/reverse?point.lat=60.22411&point.lon=24.814298&size=1\")\n",
      "\n"
     ],
     "language": "python",
     "metadata": {},
     "outputs": [
      {
       "output_type": "stream",
       "stream": "stdout",
       "text": [
        "{\"geocoding\":{\"version\":\"0.1\",\"attribution\":\"http://pelias.mapzen.com/v1/attribution\",\"query\":{\"text\":\"hakkukuja 1,espoo\",\"parsed_text\":{\"name\":\"hakkukuja 1\",\"regions\":[\"hakkukuja 1\",\"espoo\"],\"admin_parts\":\"espoo\"},\"size\":1,\"private\":false,\"querySize\":1,\"lang\":\"fi\"},\"engine\":{\"name\":\"Pelias\",\"author\":\"Mapzen\",\"version\":\"1.0\"},\"timestamp\":1474230245124},\"type\":\"FeatureCollection\",\"features\":[{\"type\":\"Feature\",\"geometry\":{\"type\":\"Point\",\"coordinates\":[24.814298,60.22411]},\"properties\":{\"id\":\"fi/uusimaa:100275346K-1\",\"gid\":\"openaddresses:address:fi/uusimaa:100275346K-1\",\"layer\":\"address\",\"source\":\"openaddresses\",\"source_id\":\"fi/uusimaa:100275346k-1\",\"name\":\"Hakkukuja 1\",\"housenumber\":\"1\",\"street\":\"Hakkukuja\",\"postalcode\":\"02650\",\"confidence\":0.643,\"country\":\"Suomi\",\"country_gid\":\"whosonfirst:country:85633143\",\"country_a\":\"FIN\",\"macroregion\":\"Etela-Suomi\",\"macroregion_gid\":\"whosonfirst:macroregion:404227411\",\"region\":\"Uusimaa\",\"region_gid\":\"whosonfirst:region:85683067\",\"localadmin\":\"Espoo\",\"localadmin_gid\":\"whosonfirst:localadmin:907198517\",\"locality\":\"Espoo\",\"locality_gid\":\"whosonfirst:locality:101748415\",\"neighbourhood\":\"K\u00e5nala\",\"neighbourhood_gid\":\"whosonfirst:neighbourhood:85907963\",\"label\":\"Hakkukuja 1, Espoo, Suomi\"}}],\"bbox\":[24.814298,60.22411,24.814298,60.22411]}\n",
        "%0A%0A%C3%96ri%C3%A4ri%C3%B6r%C3%A4%C3%A4%C3%A4ri%0A%0A"
       ]
      },
      {
       "output_type": "stream",
       "stream": "stdout",
       "text": [
        "\n",
        "{\"geocoding\":{\"version\":\"0.1\",\"attribution\":\"http://pelias.mapzen.com/v1/attribution\",\"query\":{\"size\":1,\"private\":false,\"point.lat\":60.22411,\"point.lon\":24.814298,\"boundary.circle.radius\":1,\"boundary.circle.lat\":60.22411,\"boundary.circle.lon\":24.814298,\"querySize\":1,\"lang\":\"fi\"},\"engine\":{\"name\":\"Pelias\",\"author\":\"Mapzen\",\"version\":\"1.0\"},\"timestamp\":1474230245309},\"type\":\"FeatureCollection\",\"features\":[{\"type\":\"Feature\",\"geometry\":{\"type\":\"Point\",\"coordinates\":[24.814298,60.22411]},\"properties\":{\"id\":\"fi/uusimaa:100275346K-1\",\"gid\":\"openaddresses:address:fi/uusimaa:100275346K-1\",\"layer\":\"address\",\"source\":\"openaddresses\",\"source_id\":\"fi/uusimaa:100275346k-1\",\"name\":\"Hakkukuja 1\",\"housenumber\":\"1\",\"street\":\"Hakkukuja\",\"postalcode\":\"02650\",\"confidence\":1,\"distance\":0,\"country\":\"Suomi\",\"country_gid\":\"whosonfirst:country:85633143\",\"country_a\":\"FIN\",\"macroregion\":\"Etela-Suomi\",\"macroregion_gid\":\"whosonfirst:macroregion:404227411\",\"region\":\"Uusimaa\",\"region_gid\":\"whosonfirst:region:85683067\",\"localadmin\":\"Espoo\",\"localadmin_gid\":\"whosonfirst:localadmin:907198517\",\"locality\":\"Espoo\",\"locality_gid\":\"whosonfirst:locality:101748415\",\"neighbourhood\":\"K\u00e5nala\",\"neighbourhood_gid\":\"whosonfirst:neighbourhood:85907963\",\"label\":\"Hakkukuja 1, Espoo, Suomi\"}}],\"bbox\":[24.814298,60.22411,24.814298,60.22411]}\n"
       ]
      }
     ],
     "prompt_number": 85
    },
    {
     "cell_type": "code",
     "collapsed": false,
     "input": [
      "repl = place2.json()\n",
      "print(repl['bbox'])\n",
      "not 'bbox' in repl"
     ],
     "language": "python",
     "metadata": {},
     "outputs": [
      {
       "output_type": "stream",
       "stream": "stdout",
       "text": [
        "[24.814298, 60.22411, 24.814298, 60.22411]\n"
       ]
      },
      {
       "metadata": {},
       "output_type": "pyout",
       "prompt_number": 100,
       "text": [
        "False"
       ]
      }
     ],
     "prompt_number": 100
    },
    {
     "cell_type": "code",
     "collapsed": false,
     "input": [
      "payload = \"\"\"{\n",
      "  stop(id: \"HSL:1173210\") {\n",
      "    name\n",
      "    lat\n",
      "    lon\n",
      "    wheelchairBoarding\n",
      "  }  \n",
      "}\"\"\"\n",
      "print(payload)"
     ],
     "language": "python",
     "metadata": {},
     "outputs": [
      {
       "output_type": "stream",
       "stream": "stdout",
       "text": [
        "{\n",
        "  stop(id: \"HSL:1173210\") {\n",
        "    name\n",
        "    lat\n",
        "    lon\n",
        "    wheelchairBoarding\n",
        "  }  \n",
        "}\n"
       ]
      }
     ],
     "prompt_number": 70
    },
    {
     "cell_type": "code",
     "collapsed": false,
     "input": [
      "req = requests.Request('POST', \"https://api.digitransit.fi/routing/v1/routers/hsl/index/graphql\", data=payload)\n",
      "#req = requests.Request('POST', \"https://httpbin.org/post\", data=payload)\n",
      "prepped = req.prepare()\n",
      "prepped.headers['Content-Type']='application/graphql'\n",
      "s = requests.Session()\n",
      "resp = s.send(prepped)\n",
      "\n",
      "print(resp.status_code)\n",
      "print(resp.text)"
     ],
     "language": "python",
     "metadata": {},
     "outputs": [
      {
       "output_type": "stream",
       "stream": "stdout",
       "text": [
        "200\n",
        "{\"data\":{\"stop\":{\"name\":\"Ratamestarinkatu\",\"lat\":60.1985495999999,\"lon\":24.939364900000033,\"wheelchairBoarding\":\"NO_INFORMATION\"}}}\n"
       ]
      }
     ],
     "prompt_number": 74
    },
    {
     "cell_type": "code",
     "collapsed": false,
     "input": [
      "terppa = resp.json()\n",
      "print(terppa[\"data\"])"
     ],
     "language": "python",
     "metadata": {},
     "outputs": [
      {
       "output_type": "stream",
       "stream": "stdout",
       "text": [
        "{'stop': {'lon': 24.939364900000033, 'lat': 60.1985495999999, 'name': 'Ratamestarinkatu', 'wheelchairBoarding': 'NO_INFORMATION'}}\n"
       ]
      }
     ],
     "prompt_number": 90
    },
    {
     "cell_type": "code",
     "collapsed": false,
     "input": [
      "## function for \n",
      "def getCoordinates(names):\n",
      "    \n"
     ],
     "language": "python",
     "metadata": {},
     "outputs": [],
     "prompt_number": 1
    }
   ],
   "metadata": {}
  }
 ]
}
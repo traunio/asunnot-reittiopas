{
 "metadata": {
  "name": "",
  "signature": "sha256:2fe1f4c7cb70f38f8814f91fda0b3f2fb9d9b582e1cf5a2f51d448f668525ea8"
 },
 "nbformat": 3,
 "nbformat_minor": 0,
 "worksheets": [
  {
   "cells": [
    {
     "cell_type": "code",
     "collapsed": false,
     "input": [
      "import requests"
     ],
     "language": "python",
     "metadata": {},
     "outputs": [],
     "prompt_number": 6
    },
    {
     "cell_type": "code",
     "collapsed": false,
     "input": [
      "payload = \"\"\"{\n",
      "  stop(id: \"HSL:1173210\") {\n",
      "    name\n",
      "    lat\n",
      "    lon\n",
      "    wheelchairBoarding\n",
      "  }  \n",
      "}\"\"\"\n",
      "print(payload)"
     ],
     "language": "python",
     "metadata": {},
     "outputs": [
      {
       "output_type": "stream",
       "stream": "stdout",
       "text": [
        "{\n",
        "  stop(id: \"HSL:1173210\") {\n",
        "    name\n",
        "    lat\n",
        "    lon\n",
        "    wheelchairBoarding\n",
        "  }  \n",
        "}\n"
       ]
      }
     ],
     "prompt_number": 70
    },
    {
     "cell_type": "code",
     "collapsed": false,
     "input": [
      "req = requests.Request('POST', \"https://api.digitransit.fi/routing/v1/routers/hsl/index/graphql\", data=payload)\n",
      "#req = requests.Request('POST', \"https://httpbin.org/post\", data=payload)\n",
      "prepped = req.prepare()\n",
      "prepped.headers['Content-Type']='application/graphql'\n",
      "s = requests.Session()\n",
      "resp = s.send(prepped)\n",
      "\n",
      "print(resp.status_code)\n",
      "print(resp.text)"
     ],
     "language": "python",
     "metadata": {},
     "outputs": [
      {
       "output_type": "stream",
       "stream": "stdout",
       "text": [
        "200\n",
        "{\"data\":{\"stop\":{\"name\":\"Ratamestarinkatu\",\"lat\":60.1985495999999,\"lon\":24.939364900000033,\"wheelchairBoarding\":\"NO_INFORMATION\"}}}\n"
       ]
      }
     ],
     "prompt_number": 74
    },
    {
     "cell_type": "code",
     "collapsed": false,
     "input": [
      "help(requests.Request)\n"
     ],
     "language": "python",
     "metadata": {},
     "outputs": [
      {
       "output_type": "stream",
       "stream": "stdout",
       "text": [
        "Help on class Request in module requests.models:\n",
        "\n",
        "class Request(RequestHooksMixin)\n",
        " |  A user-created :class:`Request <Request>` object.\n",
        " |  \n",
        " |  Used to prepare a :class:`PreparedRequest <PreparedRequest>`, which is sent to the server.\n",
        " |  \n",
        " |  :param method: HTTP method to use.\n",
        " |  :param url: URL to send.\n",
        " |  :param headers: dictionary of headers to send.\n",
        " |  :param files: dictionary of {filename: fileobject} files to multipart upload.\n",
        " |  :param data: the body to attach to the request. If a dictionary is provided, form-encoding will take place.\n",
        " |  :param json: json for the body to attach to the request (if files or data is not specified).\n",
        " |  :param params: dictionary of URL parameters to append to the URL.\n",
        " |  :param auth: Auth handler or (user, pass) tuple.\n",
        " |  :param cookies: dictionary or CookieJar of cookies to attach to this request.\n",
        " |  :param hooks: dictionary of callback hooks, for internal usage.\n",
        " |  \n",
        " |  Usage::\n",
        " |  \n",
        " |    >>> import requests\n",
        " |    >>> req = requests.Request('GET', 'http://httpbin.org/get')\n",
        " |    >>> req.prepare()\n",
        " |    <PreparedRequest [GET]>\n",
        " |  \n",
        " |  Method resolution order:\n",
        " |      Request\n",
        " |      RequestHooksMixin\n",
        " |      builtins.object\n",
        " |  \n",
        " |  Methods defined here:\n",
        " |  \n",
        " |  __init__(self, method=None, url=None, headers=None, files=None, data=None, params=None, auth=None, cookies=None, hooks=None, json=None)\n",
        " |      Initialize self.  See help(type(self)) for accurate signature.\n",
        " |  \n",
        " |  __repr__(self)\n",
        " |      Return repr(self).\n",
        " |  \n",
        " |  prepare(self)\n",
        " |      Constructs a :class:`PreparedRequest <PreparedRequest>` for transmission and returns it.\n",
        " |  \n",
        " |  ----------------------------------------------------------------------\n",
        " |  Methods inherited from RequestHooksMixin:\n",
        " |  \n",
        " |  deregister_hook(self, event, hook)\n",
        " |      Deregister a previously registered hook.\n",
        " |      Returns True if the hook existed, False if not.\n",
        " |  \n",
        " |  register_hook(self, event, hook)\n",
        " |      Properly register a hook.\n",
        " |  \n",
        " |  ----------------------------------------------------------------------\n",
        " |  Data descriptors inherited from RequestHooksMixin:\n",
        " |  \n",
        " |  __dict__\n",
        " |      dictionary for instance variables (if defined)\n",
        " |  \n",
        " |  __weakref__\n",
        " |      list of weak references to the object (if defined)\n",
        "\n"
       ]
      }
     ],
     "prompt_number": 72
    },
    {
     "cell_type": "code",
     "collapsed": false,
     "input": [
      "## function for \n",
      "def getCoordinates(names):\n",
      "    \n"
     ],
     "language": "python",
     "metadata": {},
     "outputs": [],
     "prompt_number": 1
    }
   ],
   "metadata": {}
  }
 ]
}
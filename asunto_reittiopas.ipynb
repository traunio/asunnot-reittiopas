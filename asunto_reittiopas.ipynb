{
 "metadata": {
  "name": "",
  "signature": "sha256:6201b20f637eca2ec99dfd3b7629d3c6657c6bf4970a770cc8bb64da01dfd1fa"
 },
 "nbformat": 3,
 "nbformat_minor": 0,
 "worksheets": [
  {
   "cells": [
    {
     "cell_type": "code",
     "collapsed": false,
     "input": [
      "import requests\n",
      "import json\n",
      "import urllib\n",
      "import pprint\n",
      "from datetime import date\n",
      "from datetime import timedelta\n",
      "import statistics as st"
     ],
     "language": "python",
     "metadata": {},
     "outputs": [],
     "prompt_number": 126
    },
    {
     "cell_type": "code",
     "collapsed": false,
     "input": [
      "#payload, date and time to be included\n",
      "#date format: \"2016-05-20\",\n",
      "#time format: \"23:28:00\"\n",
      "ROUTEQ = \"\"\"\n",
      "{\n",
      "  plan(from: {lat: %s, lon: %s}, \n",
      "       to: {lat: %s, lon: %s},\n",
      "       modes: \"BUS,TRAM,RAIL,SUBWAY,FERRY,WALK\",\n",
      "       walkReluctance: 2.1, walkBoardCost: 600,\n",
      "       minTransferTime: 180, walkSpeed: 1.2,\n",
      "       numItineraries: 11,\n",
      "       date: \"%s\",\n",
      "       time: \"%s\"\n",
      "       ) {\n",
      "   itineraries{\n",
      "      startTime\n",
      "      walkDistance\n",
      "      duration\n",
      "      legs {\n",
      "        mode\n",
      "        duration       \n",
      "        distance\n",
      "        from {stop {\n",
      "          gtfsId\n",
      "        }}\n",
      "        route {\n",
      "          shortName          \n",
      "        }\n",
      "        }       \n",
      "    }\n",
      "  }  \n",
      "}\"\"\"      \n",
      "  \n",
      "\n",
      "# date in format e.g. \"20160929\"\n",
      "STOPQ = \"\"\"\n",
      "{\n",
      "  stop(id: \"%s\") {\n",
      "    stoptimesForServiceDate(date: \"%s\") { \n",
      "      pattern {\n",
      "        route {\n",
      "          shortName\n",
      "        }\n",
      "      }\n",
      "      stoptimes {\n",
      "        scheduledDeparture\n",
      "      }\n",
      "    }\n",
      "  } \n",
      "}\"\"\"\n",
      "\n",
      "# print(ROUTEQ)\n",
      "# print(STOPQ)\n",
      "\n"
     ],
     "language": "python",
     "metadata": {},
     "outputs": [],
     "prompt_number": 159
    },
    {
     "cell_type": "code",
     "collapsed": false,
     "input": [
      "class CheckRoutes():\n",
      "    \n",
      "    def __init__(self, places):         \n",
      "        self.places = places        \n",
      "        # self.updatePlaces()\n",
      "       \n",
      "    # separate method, since it will result in \n",
      "    def updatePlaces(self):       \n",
      "        self.coordinates = {}\n",
      "        for address in self.places:\n",
      "            results = self.getLocation(address)\n",
      "            # pprint.pprint(results)\n",
      "            self.coordinates[address] = list(results.values())[0]\n",
      "    \n",
      "    \n",
      "    # work in progress\n",
      "    def checkRoutes(self,address):        \n",
      "        \n",
      "        result = self.getLocation(address)\n",
      "        poi = list(result.values())[0]\n",
      "        \n",
      "        today = date.today()\n",
      "        days = [today + timedelta(days=x) for x in range(1,8)]\n",
      "        days = {x.isoweekday():x.strftime(\"%Y-%m-%d\") for x in days}\n",
      "        time = \"07:30:00\"\n",
      "        datte = days[1]\n",
      "        \n",
      "        results = []\n",
      "\n",
      "        for k,v in self.coordinates.items():\n",
      "            \n",
      "            print(\"\\n\\nFrom %s to %s\" % (address,k))\n",
      "            \n",
      "            payload = ROUTEQ % (poi[0],poi[1],v[0],v[1],datte,time)\n",
      "            result = self.runRouteQuery(payload)\n",
      "            results.append(self.analyseRouteQ(result))\n",
      "\n",
      "        \n",
      "    \n",
      "    # Input: address as string\n",
      "    # Output: (latitude, longitude) or None\n",
      "    # Gives a latitude longitude pair for a given text address\n",
      "    def getLocation(self, address):\n",
      "        payload = \"http://api.digitransit.fi/geocoding/v1/search?text=\" + urllib.parse.quote(address) # + \"&size=1\"\n",
      "        payload = payload + \"&focus.point.lat=60.169856&focus.point.lon=24.938379&size=5\"\n",
      "        data = requests.get(payload)\n",
      "        json_reply = data.json()\n",
      "        try:\n",
      "            results = {}\n",
      "            for i in json_reply['features']:\n",
      "                coord = i['geometry']['coordinates']\n",
      "                place = i['properties']['label']\n",
      "                ok_cities = [\"Espoo\", \"Helsinki\", \"Kauniainen\", \"Vantaa\", \"Kirkkonummi\"]\n",
      "                # print(\"Debug: %s and coords %s\" % (place,coord)) \n",
      "                for city in ok_cities:\n",
      "                    if city in place:\n",
      "                        results[place] = (coord[1],coord[0])\n",
      "                        break\n",
      "\n",
      "            return results\n",
      "\n",
      "        except:\n",
      "            return None\n",
      "\n",
      "    # reverse search mainly for testing purposes\n",
      "    def getStreetName(self, coords):\n",
      "        lat, lon = coords\n",
      "        lat = str(lat)\n",
      "        lon = str(lon)\n",
      "        payload = \"http://api.digitransit.fi/geocoding/v1/reverse?point.lat=\" + lat + \"&point.lon=\" + lon +\"&size=1\"\n",
      "        response = requests.get(payload)\n",
      "\n",
      "        # try to find a specific field in json respons. Return None if not successful\n",
      "        try:\n",
      "            return response.json()['features'][0]['properties']['label']\n",
      "        except:\n",
      "            return None\n",
      "    \n",
      "    # payload = ROUTEQ % (origin[0],origin[1],destination[0],destination[1],date,time)\n",
      "    # origin = (lat,lon)\n",
      "    # destination = (lat,lon)\n",
      "    def runRouteQuery(self, payload):\n",
      "        req = requests.Request('POST', \"https://api.digitransit.fi/routing/v1/routers/hsl/index/graphql\", data=payload)\n",
      "    #req = requests.Request('POST', \"https://httpbin.org/post\", data=payload) # for debugging\n",
      "        prepped = req.prepare()\n",
      "        prepped.headers['Content-Type']='application/graphql'\n",
      "        s = requests.Session()\n",
      "        resp = s.send(prepped)\n",
      "\n",
      "        if resp.status_code == 200: # response code ok\n",
      "            try:\n",
      "                reslist = resp.json()['data']['plan']['itineraries']\n",
      "                return reslist\n",
      "            except:\n",
      "                return None\n",
      "        else:\n",
      "            return None\n",
      "    \n",
      "    \n",
      " # filter those routes out, where it's possible to leaver later, and arrive sooner   \n",
      "#    def filterBadRoutes(self,durations):\n",
      "        \n",
      "    \n",
      "    # input is the results from runRouteQ\n",
      "    def analyseRouteQ(self, reslist):\n",
      "        times = (len(reslist)-1)/((reslist[-1]['startTime'] - reslist[0]['startTime'])/3600000)\n",
      "\n",
      "        pprint.pprint(\"Average times %.1f in an hour\" % times)\n",
      "        # durations = [(x['duration'],x['duration']*1000+x['startTime']) for x in reslist]\n",
      "        durations = [x['duration'] for x in reslist]\n",
      "       # durations = self.filterBadRoutes(durations)\n",
      "        \n",
      "        ave_dure = st.median(durations)/60\n",
      "        max_dure = max(durations)/60\n",
      "        min_dure = min(durations)/60\n",
      "        \n",
      "        pprint.pprint(\"Median duration %.1f mins\" % ave_dure)\n",
      "        pprint.pprint(\"Max duration %.1f mins\" % max_dure)\n",
      "        pprint.pprint(\"Min duration %.1f mins\" % min_dure)\n",
      "\n",
      "        singleroutes = {}\n",
      "        longerroutes = {}\n",
      "        justwalk = {}\n",
      "        for route in reslist:\n",
      "            duration = route['duration']\n",
      "            startTime = route['startTime'] # unit is [microseconds from Unix epoch]\n",
      "            if route['legs'][0]['mode'] == 'WALK': # It's possible, that the trip starts from station/stop. Hence test\n",
      "                startShift = route['legs'][0]['duration'] # unit is [s]\n",
      "            else:\n",
      "                startShift = 0\n",
      "            walkDistance = route['walkDistance'] # unit is [m]\n",
      "\n",
      "            legs = [x for x in route['legs'] if x['mode'] != 'WALK'] # for calculating legs without walking\n",
      "            shortis = [x['route']['shortName'] if x['route']['shortName'] else x['mode'] \n",
      "                       for x in route['legs'] if x['route'] != None]       \n",
      "\n",
      "            if len(legs) < 2 and shortis:\n",
      "                shortName = shortis[0]\n",
      "                \n",
      "                mode = legs[0]['mode']\n",
      "                gtfsId = legs[0]['from']['stop']['gtfsId']\n",
      "                if not shortName in singleroutes.keys():\n",
      "                    singleroutes[shortName] = {'gtfsId':gtfsId, 'mode':mode, 'duration':duration, 'startTime':startTime,\n",
      "                                           'startShift':startShift, 'walkDistance':walkDistance}\n",
      "                \n",
      "            elif not shortis:\n",
      "                justwalk = {'duration':duration, 'walkDistance':walkDistance}\n",
      "            else:\n",
      "                try:\n",
      "                    shortNames = '_'.join(shortis)\n",
      "                except:\n",
      "                    pprint.pprint(shortis)\n",
      "                    pprint.pprint(route)\n",
      "                if not shortNames in longerroutes.keys():\n",
      "                    longerroutes[shortNames] = route                    \n",
      "\n",
      "        return (times,durations,singleroutes,longerroutes)"
     ],
     "language": "python",
     "metadata": {},
     "outputs": [],
     "prompt_number": 160
    },
    {
     "cell_type": "code",
     "collapsed": false,
     "input": [
      "locs = ['Kamppi','Keilaniementie 1', 'Hakaniemi', 'Majurinkatu 6, Espoo','Harakantie 4, Espoo']\n",
      "poi = \"Otsonkallio 3, Espoo\"\n",
      "\n",
      "stuff = CheckRoutes(locs)\n",
      "\n",
      "stuff.updatePlaces()\n",
      "stuff.checkRoutes(poi)\n",
      "\n",
      "\n"
     ],
     "language": "python",
     "metadata": {},
     "outputs": [
      {
       "output_type": "stream",
       "stream": "stdout",
       "text": [
        "\n",
        "\n",
        "From Otsonkallio 3, Espoo to Kamppi\n",
        "'Average times 17.6 in an hour'"
       ]
      },
      {
       "output_type": "stream",
       "stream": "stdout",
       "text": [
        "\n",
        "'Median duration 30.5 mins'\n",
        "'Max duration 39.4 mins'\n",
        "'Min duration 23.6 mins'\n",
        "\n",
        "\n",
        "From Otsonkallio 3, Espoo to Majurinkatu 6, Espoo\n",
        "'Average times 20.0 in an hour'"
       ]
      },
      {
       "output_type": "stream",
       "stream": "stdout",
       "text": [
        "\n",
        "'Median duration 28.1 mins'\n",
        "'Max duration 41.8 mins'\n",
        "'Min duration 27.1 mins'\n",
        "\n",
        "\n",
        "From Otsonkallio 3, Espoo to Harakantie 4, Espoo\n",
        "'Average times 16.7 in an hour'"
       ]
      },
      {
       "output_type": "stream",
       "stream": "stdout",
       "text": [
        "\n",
        "'Median duration 30.0 mins'\n",
        "'Max duration 31.0 mins'\n",
        "'Min duration 27.7 mins'\n",
        "\n",
        "\n",
        "From Otsonkallio 3, Espoo to Keilaniementie 1\n",
        "'Average times 34.0 in an hour'"
       ]
      },
      {
       "output_type": "stream",
       "stream": "stdout",
       "text": [
        "\n",
        "'Median duration 17.6 mins'\n",
        "'Max duration 23.2 mins'\n",
        "'Min duration 15.1 mins'\n",
        "\n",
        "\n",
        "From Otsonkallio 3, Espoo to Hakaniemi\n",
        "'Average times 17.6 in an hour'"
       ]
      },
      {
       "output_type": "stream",
       "stream": "stdout",
       "text": [
        "\n",
        "'Median duration 39.2 mins'\n",
        "'Max duration 46.4 mins'\n",
        "'Min duration 31.4 mins'\n"
       ]
      }
     ],
     "prompt_number": 161
    },
    {
     "cell_type": "code",
     "collapsed": false,
     "input": [
      "[True if not x else x for x in [None,'2','3']] #True if x % 2 == 0 else False"
     ],
     "language": "python",
     "metadata": {},
     "outputs": [
      {
       "metadata": {},
       "output_type": "pyout",
       "prompt_number": 156,
       "text": [
        "[True, '2', '3']"
       ]
      }
     ],
     "prompt_number": 156
    },
    {
     "cell_type": "markdown",
     "metadata": {},
     "source": [
      "## Notes and ideas\n",
      "\n",
      "Program function:\n",
      "1. Check routes on Friday morning, Friday evening, Saturday evening, Sunday evening\n",
      "2. Check one stop schedule for one bus/connection \n",
      "3. Draw results\n",
      "\n",
      "Results to be considered:\n",
      "- Connections per hour\n",
      "- Average duration of trip\n",
      "- Amount of walking distance\n",
      "- Does trip include more than one vehicle leg? (e.g. two busses or similar)\n",
      "\n",
      "Data structure for check routes:\n",
      "- singleroutes: dictionary {vehicle:(gtfsId, time, walking distance, total distance}\n",
      "- more complicated routes list of {vehicle_string_combined: (time, walking distance, total distance)}\n",
      "\n"
     ]
    },
    {
     "cell_type": "code",
     "collapsed": false,
     "input": [
      "origin = (60.224776,24.81327)\n",
      "destination = (60.17508,24.831008)\n",
      "\n",
      "today = date.today()\n",
      "date = today.strftime(\"%Y-%m-%d\"))\n",
      "time = \"07:30:00\"\n",
      "\n",
      "\n",
      "payload = ROUTEQ % (origin[0],origin[1],destination[0],destination[1],date,time)\n",
      "result = runRouteQuery(payload)\n",
      "single,more = analyseRouteQ(result)\n"
     ],
     "language": "python",
     "metadata": {},
     "outputs": [
      {
       "output_type": "stream",
       "stream": "stdout",
       "text": [
        "2016-10-02\n"
       ]
      }
     ],
     "prompt_number": 91
    },
    {
     "cell_type": "code",
     "collapsed": false,
     "input": [
      "print(st.median(range(1,6)))\n",
      "print(max(range(6)))\n",
      "print(min(range(5)))"
     ],
     "language": "python",
     "metadata": {},
     "outputs": [
      {
       "output_type": "stream",
       "stream": "stdout",
       "text": [
        "3\n",
        "5\n",
        "0\n"
       ]
      }
     ],
     "prompt_number": 98
    },
    {
     "cell_type": "code",
     "collapsed": false,
     "input": [
      "def getStopTimes(stop, lines):\n",
      "    \n",
      "    today = date.today()\n",
      "    days = [today + timedelta(days=x) for x in range(0,7)]\n",
      "    days = {x.isoweekday():x.strftime(\"%Y%m%d\") for x in days}\n",
      "    \n",
      "    payload = STOPQ % ()\n",
      "    \n",
      "    for i in days.keys():\n",
      "    \n",
      "    \n",
      "    \n",
      "    payload = "
     ],
     "language": "python",
     "metadata": {},
     "outputs": []
    },
    {
     "cell_type": "code",
     "collapsed": false,
     "input": [
      "# Looking for dates\n",
      "\n",
      "today = date.today()\n",
      "days = [today + timedelta(days=x) for x in range(0,7)]\n",
      "days = {x.isoweekday():x.strftime(\"%Y%m%d\") for x in days}\n",
      "\n",
      "for i in days.keys():\n",
      "    print(days[i],i)\n",
      "    \n"
     ],
     "language": "python",
     "metadata": {},
     "outputs": [
      {
       "output_type": "stream",
       "stream": "stdout",
       "text": [
        "20161003 1\n",
        "20161004 2\n",
        "20161005 3\n",
        "20161006 4\n",
        "20160930 5\n",
        "20161001 6\n",
        "20161002 7\n"
       ]
      }
     ],
     "prompt_number": 50
    },
    {
     "cell_type": "code",
     "collapsed": false,
     "input": [
      "# Test case for getLocation\n",
      "locs = ['Kamppi','Keilaniementie 1', 'Hakaniemi', 'Majurinkatu 6, Espoo','Harakantie 4, Espoo']\n",
      "coords = []\n",
      "for i in locs: \n",
      "    place = getLocation(i)\n",
      "    coords.append(place)\n",
      "    pprint.pprint (\"%s location(s) %s\" % (i, place))\n",
      "    \n"
     ],
     "language": "python",
     "metadata": {},
     "outputs": [
      {
       "output_type": "stream",
       "stream": "stdout",
       "text": [
        "(\"Kamppi location(s) {'Kamppi, Helsinki, Suomi': (60.168438, 24.929283), \"\n",
        " \"'Kamppi, kaukoliikenne, Helsinki, Suomi': (60.169586, 24.933375), 'Kampin \"\n",
        " \"kappeli, Helsinki, Suomi': (60.169442, 24.935952)}\")\n",
        "("
       ]
      },
      {
       "output_type": "stream",
       "stream": "stdout",
       "text": [
        "\"Keilaniementie 1 location(s) {'Keilaniementie, Espoo, Suomi': (60.173767, \"\n",
        " \"24.828372), 'Keilaniementie 1, Espoo, Suomi': (60.17508, 24.831008), \"\n",
        " \"'Keilaniementie 3, Espoo, Suomi': (60.174826, 24.829709), 'Keilaniementie 5, \"\n",
        " \"Espoo, Suomi': (60.175442, 24.830047), 'Keilaniementie 4, Espoo, Suomi': \"\n",
        " '(60.175056, 24.828414)}')\n",
        "\"Hakaniemi location(s) {'Hakaniemi, Helsinki, Suomi': (60.178909, 24.950318)}\""
       ]
      },
      {
       "output_type": "stream",
       "stream": "stdout",
       "text": [
        "\n",
        "("
       ]
      },
      {
       "output_type": "stream",
       "stream": "stdout",
       "text": [
        "\"Majurinkatu 6, Espoo location(s) {'Majurinkatu 8, Espoo, Suomi': (60.214392, \"\n",
        " \"24.82583), 'Majurinkatu, Espoo, Suomi': (60.214737, 24.826395), 'Majurinkatu \"\n",
        " \"5, Espoo, Suomi': (60.216366, 24.827361), 'Majurinkatu 1, Espoo, Suomi': \"\n",
        " '(60.212927, 24.826866)}')\n",
        "("
       ]
      },
      {
       "output_type": "stream",
       "stream": "stdout",
       "text": [
        "\"Harakantie 4, Espoo location(s) {'Harakantie 4, Kirkkonummi, Suomi': \"\n",
        " \"(60.12936, 24.463576), 'Harakantie 4, Espoo, Suomi': (60.224776, 24.81327)}\")\n"
       ]
      }
     ],
     "prompt_number": 14
    },
    {
     "cell_type": "code",
     "collapsed": false,
     "input": [
      "# Test case b. Probably does not work anymore :D\n",
      "for i in range(len(coords)):\n",
      "    street = getStreetName(coords[i])\n",
      "    print(\"%s is actually %s\" % (locs[i],street))"
     ],
     "language": "python",
     "metadata": {},
     "outputs": [
      {
       "output_type": "stream",
       "stream": "stdout",
       "text": [
        "Kamppi is actually Kamppi, kaukoliikenne, Helsinki, Suomi\n",
        "Keilaniementie 1, Espoo is actually Keilaniementie 1, Espoo, Suomi"
       ]
      },
      {
       "output_type": "stream",
       "stream": "stdout",
       "text": [
        "\n",
        "Hakaniemi, Helsinki is actually Siltasaarenkatu 14, Helsinki, Suomi\n",
        "Miekka 1, Espoo is actually Miekka 1, Espoo, Suomi"
       ]
      },
      {
       "output_type": "stream",
       "stream": "stdout",
       "text": [
        "\n"
       ]
      }
     ],
     "prompt_number": 154
    },
    {
     "cell_type": "code",
     "collapsed": false,
     "input": [
      "# Example queries\n",
      "\"\"\"\n",
      "{\n",
      "  stop(id: \"HSL:2213208\") {\n",
      "    stopTimesForPattern(id: \"HSL:2550:0:01\", numberOfDepartures: 10) {\n",
      "      scheduledDeparture\n",
      "    }\n",
      "  } \n",
      "}\n",
      "\"\"\"\n",
      "\n",
      "# ja \n",
      "\n",
      "\n",
      "# and finally:\n",
      "\"\"\"\n",
      "{ \n",
      "   stop(id:\"%s\") { \n",
      "     name \n",
      "     zoneId  \n",
      "     stoptimesWithoutPatterns(startTime: \"%s\", numberOfDepartures: %s) { \n",
      "       scheduledDeparture \n",
      "       serviceDay \n",
      "       trip{ \n",
      "         tripHeadsign \n",
      "         route{ \n",
      "           shortName \n",
      "           type \n",
      "         } \n",
      "       } \n",
      "    }  \n",
      "   } \n",
      "}\"\"\""
     ],
     "language": "python",
     "metadata": {},
     "outputs": []
    },
    {
     "cell_type": "code",
     "collapsed": false,
     "input": [
      "payload = \"http://api.digitransit.fi/geocoding/v1/search?text=hakaniemi\"\n",
      "data = requests.get(payload)\n",
      "json_reply = data.json()\n",
      "print(json_reply['features'][1]['geometry']['coordinates'])"
     ],
     "language": "python",
     "metadata": {},
     "outputs": [
      {
       "output_type": "stream",
       "stream": "stdout",
       "text": [
        "[22.181653, 61.978031]\n"
       ]
      }
     ],
     "prompt_number": 160
    },
    {
     "cell_type": "code",
     "collapsed": false,
     "input": [
      "place2 = requests.get(\"http://api.digitransit.fi/geocoding/v1/reverse?point.lat=60.224776&point.lon=24.81327&size=1\")\n",
      "pprint.pprint(place2.json())\n"
     ],
     "language": "python",
     "metadata": {},
     "outputs": [
      {
       "output_type": "stream",
       "stream": "stdout",
       "text": [
        "{'bbox': [24.81327, 60.224776, 24.81327, 60.224776],\n",
        " 'features': [{'geometry': {'coordinates': [24.81327, 60.224776],\n",
        "                            'type': 'Point'},\n",
        "               'properties': {'confidence': 1,\n",
        "                              'country': 'Suomi',\n",
        "                              'country_a': 'FIN',\n",
        "                              'country_gid': 'whosonfirst:country:85633143',\n",
        "                              'distance': 0,\n",
        "                              'gid': 'openstreetmap:address:way:322063296',\n",
        "                              'housenumber': '4',\n",
        "                              'id': 'way:322063296',\n",
        "                              'label': 'Harakantie 4, Espoo, Suomi',\n",
        "                              'layer': 'address',\n",
        "                              'localadmin': 'Espoo',\n",
        "                              'localadmin_gid': 'whosonfirst:localadmin:907198517',\n",
        "                              'locality': 'Espoo',\n",
        "                              'locality_gid': 'whosonfirst:locality:101748415',\n",
        "                              'macroregion': 'Etela-Suomi',\n",
        "                              'macroregion_gid': 'whosonfirst:macroregion:404227411',\n",
        "                              'name': 'Harakantie 4',\n",
        "                              'neighbourhood': 'K\u00e5nala',\n",
        "                              'neighbourhood_gid': 'whosonfirst:neighbourhood:85907963',\n",
        "                              'region': 'Uusimaa',\n",
        "                              'region_gid': 'whosonfirst:region:85683067',\n",
        "                              'source': 'openstreetmap',\n",
        "                              'source_id': 'way:322063296',\n",
        "                              'street': 'Harakantie'},\n",
        "               'type': 'Feature'}],\n",
        " 'geocoding': {'attribution': 'http://pelias.mapzen.com/v1/attribution',\n",
        "               'engine': {'author': 'Mapzen',\n",
        "                          'name': 'Pelias',\n",
        "                          'version': '1.0'},\n",
        "               'query': {'boundary.circle.lat': 60.224776,\n",
        "                         'boundary.circle.lon': 24.81327,\n",
        "                         'boundary.circle.radius': 1,\n",
        "                         'lang': 'fi',\n",
        "                         'point.lat': 60.224776,\n",
        "                         'point.lon': 24.81327,\n",
        "                         'private': False,\n",
        "                         'querySize': 1,\n",
        "                         'size': 1},\n",
        "               'timestamp': 1474836307828,\n",
        "               'version': '0.1'},\n",
        " 'type': 'FeatureCollection'}\n"
       ]
      }
     ],
     "prompt_number": 16
    },
    {
     "cell_type": "code",
     "collapsed": false,
     "input": [
      "req = requests.Request('POST', \"https://api.digitransit.fi/routing/v1/routers/hsl/index/graphql\", data=payload)\n",
      "#req = requests.Request('POST', \"https://httpbin.org/post\", data=payload)\n",
      "prepped = req.prepare()\n",
      "prepped.headers['Content-Type']='application/graphql'\n",
      "s = requests.Session()\n",
      "resp = s.send(prepped)\n",
      "\n",
      "print(resp.status_code)\n",
      "print(resp.text)"
     ],
     "language": "python",
     "metadata": {},
     "outputs": [
      {
       "output_type": "stream",
       "stream": "stdout",
       "text": [
        "200\n",
        "{\"data\":{\"stop\":{\"name\":\"Ratamestarinkatu\",\"lat\":60.1985495999999,\"lon\":24.939364900000033,\"wheelchairBoarding\":\"NO_INFORMATION\"}}}\n"
       ]
      }
     ],
     "prompt_number": 74
    }
   ],
   "metadata": {}
  }
 ]
}
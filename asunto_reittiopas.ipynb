{
 "metadata": {
  "name": "",
  "signature": "sha256:3ea4ec4889c472f7319ee7301bb75b628d1b303c215f699a36ba3882f1513f7e"
 },
 "nbformat": 3,
 "nbformat_minor": 0,
 "worksheets": [
  {
   "cells": [
    {
     "cell_type": "code",
     "collapsed": false,
     "input": [
      "import requests\n",
      "import json\n",
      "import urllib"
     ],
     "language": "python",
     "metadata": {},
     "outputs": [],
     "prompt_number": 82
    },
    {
     "cell_type": "code",
     "collapsed": false,
     "input": [
      "# Input: address as string\n",
      "# Output: (latitude, longitude) or None\n",
      "# Gives a latitude longitude pair for a given text address\n",
      "def getLocation(address):\n",
      "    payload = \"http://api.digitransit.fi/geocoding/v1/search?text=\" + urllib.parse.quote(address) + \"&size=1\"\n",
      "    data = requests.get(payload)\n",
      "    json_reply = data.json()\n",
      "    if \"bbox\" in json_reply:\n",
      "        bbox = json_reply['bbox']               \n",
      "        return (bbox[1],bbox[0]) # (lat,long)\n",
      "    return None\n",
      "\n",
      "# reverse search for testing purposes\n",
      "def getStreetName(coords):\n",
      "    lat, lon = coords\n",
      "    lat = str(lat)\n",
      "    lon = str(lon)\n",
      "    payload = \"http://api.digitransit.fi/geocoding/v1/reverse?point.lat=\" + lat + \"&point.lon=\" + lon +\"&size=1\"\n",
      "    response = requests.get(payload)\n",
      "    \n",
      "    # try to find a specific field in json respons. Return None if not successful\n",
      "    try:\n",
      "        return response.json()['features'][0]['properties']['label']\n",
      "    except:\n",
      "        return None\n",
      "    "
     ],
     "language": "python",
     "metadata": {},
     "outputs": [],
     "prompt_number": 151
    },
    {
     "cell_type": "code",
     "collapsed": false,
     "input": [
      "# Test case\n",
      "locs = ['Kamppi','Keilaniementie 1, Espoo', 'Hakaniemi, Helsinki', 'Miekka 1, Espoo']\n",
      "coords = []\n",
      "for i in locs: \n",
      "    place = getLocation(i)\n",
      "    coords.append(place)\n",
      "    print (\"%s location %s\" % (i, place))\n",
      "    \n"
     ],
     "language": "python",
     "metadata": {},
     "outputs": [
      {
       "output_type": "stream",
       "stream": "stdout",
       "text": [
        "Kamppi location (60.169586, 24.933375)\n",
        "Keilaniementie 1, Espoo location (60.17508, 24.831008)"
       ]
      },
      {
       "output_type": "stream",
       "stream": "stdout",
       "text": [
        "\n",
        "Hakaniemi, Helsinki location (60.17904, 24.949771)"
       ]
      },
      {
       "output_type": "stream",
       "stream": "stdout",
       "text": [
        "\n",
        "Miekka 1, Espoo location (60.213796, 24.82513)"
       ]
      },
      {
       "output_type": "stream",
       "stream": "stdout",
       "text": [
        "\n"
       ]
      }
     ],
     "prompt_number": 153
    },
    {
     "cell_type": "code",
     "collapsed": false,
     "input": [
      "# Test case b\n",
      "for i in range(len(coords)):\n",
      "    street = getStreetName(coords[i])\n",
      "    print(\"%s is actually %s\" % (locs[i],street))"
     ],
     "language": "python",
     "metadata": {},
     "outputs": [
      {
       "output_type": "stream",
       "stream": "stdout",
       "text": [
        "Kamppi is actually Kamppi, kaukoliikenne, Helsinki, Suomi\n",
        "Keilaniementie 1, Espoo is actually Keilaniementie 1, Espoo, Suomi"
       ]
      },
      {
       "output_type": "stream",
       "stream": "stdout",
       "text": [
        "\n",
        "Hakaniemi, Helsinki is actually Siltasaarenkatu 14, Helsinki, Suomi\n",
        "Miekka 1, Espoo is actually Miekka 1, Espoo, Suomi"
       ]
      },
      {
       "output_type": "stream",
       "stream": "stdout",
       "text": [
        "\n"
       ]
      }
     ],
     "prompt_number": 154
    },
    {
     "cell_type": "code",
     "collapsed": false,
     "input": [
      "payload = \"http://api.digitransit.fi/geocoding/v1/search?text=hakaniemi\"\n",
      "data = requests.get(payload)\n",
      "json_reply = data.json()\n",
      "print(json_reply['features'][1]['geometry']['coordinates'])"
     ],
     "language": "python",
     "metadata": {},
     "outputs": [
      {
       "output_type": "stream",
       "stream": "stdout",
       "text": [
        "[22.181653, 61.978031]\n"
       ]
      }
     ],
     "prompt_number": 160
    },
    {
     "cell_type": "code",
     "collapsed": false,
     "input": [
      "# place2.json()['geocoding']\n",
      "print(place2.json().keys())\n",
      "print(place2.json()['features'][0]['properties']['label'])\n",
      "print(coords)"
     ],
     "language": "python",
     "metadata": {},
     "outputs": [
      {
       "output_type": "stream",
       "stream": "stdout",
       "text": [
        "dict_keys(['geocoding', 'type', 'bbox', 'features'])\n",
        "Hakkukuja 1, Espoo, Suomi\n"
       ]
      },
      {
       "ename": "NameError",
       "evalue": "name 'coords' is not defined",
       "output_type": "pyerr",
       "traceback": [
        "\u001b[0;31m---------------------------------------------------------------------------\u001b[0m\n\u001b[0;31mNameError\u001b[0m                                 Traceback (most recent call last)",
        "\u001b[0;32m<ipython-input-135-3316b065bc72>\u001b[0m in \u001b[0;36m<module>\u001b[0;34m()\u001b[0m\n\u001b[1;32m      2\u001b[0m \u001b[0mprint\u001b[0m\u001b[0;34m(\u001b[0m\u001b[0mplace2\u001b[0m\u001b[0;34m.\u001b[0m\u001b[0mjson\u001b[0m\u001b[0;34m(\u001b[0m\u001b[0;34m)\u001b[0m\u001b[0;34m.\u001b[0m\u001b[0mkeys\u001b[0m\u001b[0;34m(\u001b[0m\u001b[0;34m)\u001b[0m\u001b[0;34m)\u001b[0m\u001b[0;34m\u001b[0m\u001b[0m\n\u001b[1;32m      3\u001b[0m \u001b[0mprint\u001b[0m\u001b[0;34m(\u001b[0m\u001b[0mplace2\u001b[0m\u001b[0;34m.\u001b[0m\u001b[0mjson\u001b[0m\u001b[0;34m(\u001b[0m\u001b[0;34m)\u001b[0m\u001b[0;34m[\u001b[0m\u001b[0;34m'features'\u001b[0m\u001b[0;34m]\u001b[0m\u001b[0;34m[\u001b[0m\u001b[0;36m0\u001b[0m\u001b[0;34m]\u001b[0m\u001b[0;34m[\u001b[0m\u001b[0;34m'properties'\u001b[0m\u001b[0;34m]\u001b[0m\u001b[0;34m[\u001b[0m\u001b[0;34m'label'\u001b[0m\u001b[0;34m]\u001b[0m\u001b[0;34m)\u001b[0m\u001b[0;34m\u001b[0m\u001b[0m\n\u001b[0;32m----> 4\u001b[0;31m \u001b[0mprint\u001b[0m\u001b[0;34m(\u001b[0m\u001b[0mcoords\u001b[0m\u001b[0;34m)\u001b[0m\u001b[0;34m\u001b[0m\u001b[0m\n\u001b[0m",
        "\u001b[0;31mNameError\u001b[0m: name 'coords' is not defined"
       ]
      }
     ],
     "prompt_number": 135
    },
    {
     "cell_type": "code",
     "collapsed": false,
     "input": [
      "\n",
      "\n",
      "place2 = requests.get(\"http://api.digitransit.fi/geocoding/v1/reverse?point.lat=60.22411&point.lon=24.814298&size=1\")\n",
      "\n"
     ],
     "language": "python",
     "metadata": {},
     "outputs": [
      {
       "output_type": "stream",
       "stream": "stdout",
       "text": [
        "{\"geocoding\":{\"version\":\"0.1\",\"attribution\":\"http://pelias.mapzen.com/v1/attribution\",\"query\":{\"text\":\"hakkukuja 1,espoo\",\"parsed_text\":{\"name\":\"hakkukuja 1\",\"regions\":[\"hakkukuja 1\",\"espoo\"],\"admin_parts\":\"espoo\"},\"size\":1,\"private\":false,\"querySize\":1,\"lang\":\"fi\"},\"engine\":{\"name\":\"Pelias\",\"author\":\"Mapzen\",\"version\":\"1.0\"},\"timestamp\":1474230245124},\"type\":\"FeatureCollection\",\"features\":[{\"type\":\"Feature\",\"geometry\":{\"type\":\"Point\",\"coordinates\":[24.814298,60.22411]},\"properties\":{\"id\":\"fi/uusimaa:100275346K-1\",\"gid\":\"openaddresses:address:fi/uusimaa:100275346K-1\",\"layer\":\"address\",\"source\":\"openaddresses\",\"source_id\":\"fi/uusimaa:100275346k-1\",\"name\":\"Hakkukuja 1\",\"housenumber\":\"1\",\"street\":\"Hakkukuja\",\"postalcode\":\"02650\",\"confidence\":0.643,\"country\":\"Suomi\",\"country_gid\":\"whosonfirst:country:85633143\",\"country_a\":\"FIN\",\"macroregion\":\"Etela-Suomi\",\"macroregion_gid\":\"whosonfirst:macroregion:404227411\",\"region\":\"Uusimaa\",\"region_gid\":\"whosonfirst:region:85683067\",\"localadmin\":\"Espoo\",\"localadmin_gid\":\"whosonfirst:localadmin:907198517\",\"locality\":\"Espoo\",\"locality_gid\":\"whosonfirst:locality:101748415\",\"neighbourhood\":\"K\u00e5nala\",\"neighbourhood_gid\":\"whosonfirst:neighbourhood:85907963\",\"label\":\"Hakkukuja 1, Espoo, Suomi\"}}],\"bbox\":[24.814298,60.22411,24.814298,60.22411]}\n",
        "%0A%0A%C3%96ri%C3%A4ri%C3%B6r%C3%A4%C3%A4%C3%A4ri%0A%0A"
       ]
      },
      {
       "output_type": "stream",
       "stream": "stdout",
       "text": [
        "\n",
        "{\"geocoding\":{\"version\":\"0.1\",\"attribution\":\"http://pelias.mapzen.com/v1/attribution\",\"query\":{\"size\":1,\"private\":false,\"point.lat\":60.22411,\"point.lon\":24.814298,\"boundary.circle.radius\":1,\"boundary.circle.lat\":60.22411,\"boundary.circle.lon\":24.814298,\"querySize\":1,\"lang\":\"fi\"},\"engine\":{\"name\":\"Pelias\",\"author\":\"Mapzen\",\"version\":\"1.0\"},\"timestamp\":1474230245309},\"type\":\"FeatureCollection\",\"features\":[{\"type\":\"Feature\",\"geometry\":{\"type\":\"Point\",\"coordinates\":[24.814298,60.22411]},\"properties\":{\"id\":\"fi/uusimaa:100275346K-1\",\"gid\":\"openaddresses:address:fi/uusimaa:100275346K-1\",\"layer\":\"address\",\"source\":\"openaddresses\",\"source_id\":\"fi/uusimaa:100275346k-1\",\"name\":\"Hakkukuja 1\",\"housenumber\":\"1\",\"street\":\"Hakkukuja\",\"postalcode\":\"02650\",\"confidence\":1,\"distance\":0,\"country\":\"Suomi\",\"country_gid\":\"whosonfirst:country:85633143\",\"country_a\":\"FIN\",\"macroregion\":\"Etela-Suomi\",\"macroregion_gid\":\"whosonfirst:macroregion:404227411\",\"region\":\"Uusimaa\",\"region_gid\":\"whosonfirst:region:85683067\",\"localadmin\":\"Espoo\",\"localadmin_gid\":\"whosonfirst:localadmin:907198517\",\"locality\":\"Espoo\",\"locality_gid\":\"whosonfirst:locality:101748415\",\"neighbourhood\":\"K\u00e5nala\",\"neighbourhood_gid\":\"whosonfirst:neighbourhood:85907963\",\"label\":\"Hakkukuja 1, Espoo, Suomi\"}}],\"bbox\":[24.814298,60.22411,24.814298,60.22411]}\n"
       ]
      }
     ],
     "prompt_number": 85
    },
    {
     "cell_type": "code",
     "collapsed": false,
     "input": [
      "repl = place2.json()\n",
      "print(repl['bbox'])\n",
      "not 'bbox' in repl"
     ],
     "language": "python",
     "metadata": {},
     "outputs": [
      {
       "output_type": "stream",
       "stream": "stdout",
       "text": [
        "[24.814298, 60.22411, 24.814298, 60.22411]\n"
       ]
      },
      {
       "metadata": {},
       "output_type": "pyout",
       "prompt_number": 100,
       "text": [
        "False"
       ]
      }
     ],
     "prompt_number": 100
    },
    {
     "cell_type": "code",
     "collapsed": false,
     "input": [
      "payload = \"\"\"{\n",
      "  stop(id: \"HSL:1173210\") {\n",
      "    name\n",
      "    lat\n",
      "    lon\n",
      "    wheelchairBoarding\n",
      "  }  \n",
      "}\"\"\"\n",
      "print(payload)"
     ],
     "language": "python",
     "metadata": {},
     "outputs": [
      {
       "output_type": "stream",
       "stream": "stdout",
       "text": [
        "{\n",
        "  stop(id: \"HSL:1173210\") {\n",
        "    name\n",
        "    lat\n",
        "    lon\n",
        "    wheelchairBoarding\n",
        "  }  \n",
        "}\n"
       ]
      }
     ],
     "prompt_number": 70
    },
    {
     "cell_type": "code",
     "collapsed": false,
     "input": [
      "req = requests.Request('POST', \"https://api.digitransit.fi/routing/v1/routers/hsl/index/graphql\", data=payload)\n",
      "#req = requests.Request('POST', \"https://httpbin.org/post\", data=payload)\n",
      "prepped = req.prepare()\n",
      "prepped.headers['Content-Type']='application/graphql'\n",
      "s = requests.Session()\n",
      "resp = s.send(prepped)\n",
      "\n",
      "print(resp.status_code)\n",
      "print(resp.text)"
     ],
     "language": "python",
     "metadata": {},
     "outputs": [
      {
       "output_type": "stream",
       "stream": "stdout",
       "text": [
        "200\n",
        "{\"data\":{\"stop\":{\"name\":\"Ratamestarinkatu\",\"lat\":60.1985495999999,\"lon\":24.939364900000033,\"wheelchairBoarding\":\"NO_INFORMATION\"}}}\n"
       ]
      }
     ],
     "prompt_number": 74
    },
    {
     "cell_type": "code",
     "collapsed": false,
     "input": [
      "terppa = resp.json()\n",
      "print(terppa[\"data\"])"
     ],
     "language": "python",
     "metadata": {},
     "outputs": [
      {
       "output_type": "stream",
       "stream": "stdout",
       "text": [
        "{'stop': {'lon': 24.939364900000033, 'lat': 60.1985495999999, 'name': 'Ratamestarinkatu', 'wheelchairBoarding': 'NO_INFORMATION'}}\n"
       ]
      }
     ],
     "prompt_number": 90
    },
    {
     "cell_type": "code",
     "collapsed": false,
     "input": [
      "## function for \n",
      "def getCoordinates(names):\n",
      "    \n"
     ],
     "language": "python",
     "metadata": {},
     "outputs": [],
     "prompt_number": 1
    }
   ],
   "metadata": {}
  }
 ]
}